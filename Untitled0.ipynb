{
  "nbformat": 4,
  "nbformat_minor": 0,
  "metadata": {
    "colab": {
      "provenance": [],
      "authorship_tag": "ABX9TyPPd/PFCCpjBc232651gUwD",
      "include_colab_link": true
    },
    "kernelspec": {
      "name": "python3",
      "display_name": "Python 3"
    },
    "language_info": {
      "name": "python"
    }
  },
  "cells": [
    {
      "cell_type": "markdown",
      "metadata": {
        "id": "view-in-github",
        "colab_type": "text"
      },
      "source": [
        "<a href=\"https://colab.research.google.com/github/ry4np/hello-world/blob/master/Untitled0.ipynb\" target=\"_parent\"><img src=\"https://colab.research.google.com/assets/colab-badge.svg\" alt=\"Open In Colab\"/></a>"
      ]
    },
    {
      "cell_type": "code",
      "execution_count": 2,
      "metadata": {
        "colab": {
          "base_uri": "https://localhost:8080/"
        },
        "id": "di-nWpMcF6b0",
        "outputId": "7a2c941f-fa94-49e6-bd21-dbc451bd995d"
      },
      "outputs": [
        {
          "output_type": "stream",
          "name": "stdout",
          "text": [
            "enter your name: Ryan\n",
            "Enter your age: 40\n",
            "Hello Ryan! you are 40\n"
          ]
        }
      ],
      "source": [
        "Name = input(\"enter your name: \")\n",
        "Age = input(\"Enter your age: \")\n",
        "print(\"Hello \" + Name + \"! you are \" + Age)\n"
      ]
    },
    {
      "cell_type": "code",
      "source": [
        "num1 = input(\"Enter a number:\")\n",
        "num2 = input(\"Enter another number: \")\n",
        "result = int(num1) + int(num2)\n",
        "print(result)\n"
      ],
      "metadata": {
        "colab": {
          "base_uri": "https://localhost:8080/"
        },
        "id": "xlX2sO98Hfp_",
        "outputId": "43fb15c7-949d-4838-d9f6-e125483379f6"
      },
      "execution_count": 4,
      "outputs": [
        {
          "output_type": "stream",
          "name": "stdout",
          "text": [
            "Enter a number:2\n",
            "Enter another number: 2\n",
            "4\n"
          ]
        }
      ]
    },
    {
      "cell_type": "code",
      "source": [
        "num1 = input(\"enter a number: \")\n",
        "num2 = input(\"enter another number: \")\n",
        "result = float(num1)+ float(num2)\n",
        "print(result)\n"
      ],
      "metadata": {
        "colab": {
          "base_uri": "https://localhost:8080/"
        },
        "id": "YS9hCq9OIXmB",
        "outputId": "f80f020c-d7d7-43b9-af09-1d830efb19b2"
      },
      "execution_count": 6,
      "outputs": [
        {
          "output_type": "stream",
          "name": "stdout",
          "text": [
            "enter a number: 2.3\n",
            "enter another number: 2.5\n",
            "4.8\n"
          ]
        }
      ]
    },
    {
      "cell_type": "code",
      "source": [
        "friends = [\"kevin\", \"karen\", \"jim\"]\n",
        "print(friends)\n",
        "friends[1] = \"Mike\"\n",
        "print(friends[-1])\n",
        "print(friends[1:])\n",
        "print(friends[1:3])\n",
        "print(friends)"
      ],
      "metadata": {
        "colab": {
          "base_uri": "https://localhost:8080/"
        },
        "id": "m7ypUn4vI60r",
        "outputId": "4484808b-1e58-4529-bf31-c05c0ed98020"
      },
      "execution_count": 15,
      "outputs": [
        {
          "output_type": "stream",
          "name": "stdout",
          "text": [
            "['kevin', 'karen', 'jim']\n",
            "jim\n",
            "['Mike', 'jim']\n",
            "['Mike', 'jim']\n",
            "['kevin', 'Mike', 'jim']\n"
          ]
        }
      ]
    },
    {
      "cell_type": "code",
      "source": [
        "lucky_numbers = [4, 5, 6, 7, 19, 34]\n",
        "friends = [\"kevin\", \"karen\", \"jim\", \"mike\"]\n",
        "friends.extend(lucky_numbers)\n",
        "friends.append(\"soul\")\n",
        "friends.insert(1, \"kelly\")\n",
        "friends.remove(\"jim\")\n",
        "friends2 = friends.copy()\n",
        "friends2.sort\n",
        "\n",
        "print(friends)\n",
        "print(friends.index(\"kevin\"))\n",
        "print(friends.index(\"karen\"))\n",
        "print(friends.count(\"mike\"))\n",
        "print(friends)\n",
        "print(friends2)"
      ],
      "metadata": {
        "colab": {
          "base_uri": "https://localhost:8080/"
        },
        "id": "VIe2Ar_MN_5G",
        "outputId": "21c9f57d-9c4c-4649-85ea-a5285df820c1"
      },
      "execution_count": 31,
      "outputs": [
        {
          "output_type": "stream",
          "name": "stdout",
          "text": [
            "['kevin', 'kelly', 'karen', 'mike', 4, 5, 6, 7, 19, 34, 'soul']\n",
            "0\n",
            "2\n",
            "1\n",
            "['kevin', 'kelly', 'karen', 'mike', 4, 5, 6, 7, 19, 34, 'soul']\n",
            "['kevin', 'kelly', 'karen', 'mike', 4, 5, 6, 7, 19, 34, 'soul']\n"
          ]
        }
      ]
    },
    {
      "cell_type": "markdown",
      "source": [
        "Tupples"
      ],
      "metadata": {
        "id": "Wj73G2CbQlHV"
      }
    },
    {
      "cell_type": "code",
      "source": [
        "coordinates = (4, 5)\n",
        "coordinates[1] = 10\n",
        "print(coordinates[1])"
      ],
      "metadata": {
        "colab": {
          "base_uri": "https://localhost:8080/",
          "height": 176
        },
        "id": "rkExmbtNQyxy",
        "outputId": "09cd6b0b-d908-432c-b536-79e11119e74b"
      },
      "execution_count": 33,
      "outputs": [
        {
          "output_type": "error",
          "ename": "TypeError",
          "evalue": "'tuple' object does not support item assignment",
          "traceback": [
            "\u001b[0;31m---------------------------------------------------------------------------\u001b[0m",
            "\u001b[0;31mTypeError\u001b[0m                                 Traceback (most recent call last)",
            "\u001b[0;32m<ipython-input-33-a3b0b3dfefef>\u001b[0m in \u001b[0;36m<cell line: 2>\u001b[0;34m()\u001b[0m\n\u001b[1;32m      1\u001b[0m \u001b[0mcoordinates\u001b[0m \u001b[0;34m=\u001b[0m \u001b[0;34m(\u001b[0m\u001b[0;36m4\u001b[0m\u001b[0;34m,\u001b[0m \u001b[0;36m5\u001b[0m\u001b[0;34m)\u001b[0m\u001b[0;34m\u001b[0m\u001b[0;34m\u001b[0m\u001b[0m\n\u001b[0;32m----> 2\u001b[0;31m \u001b[0mcoordinates\u001b[0m\u001b[0;34m[\u001b[0m\u001b[0;36m1\u001b[0m\u001b[0;34m]\u001b[0m \u001b[0;34m=\u001b[0m \u001b[0;36m10\u001b[0m\u001b[0;34m\u001b[0m\u001b[0;34m\u001b[0m\u001b[0m\n\u001b[0m\u001b[1;32m      3\u001b[0m \u001b[0mprint\u001b[0m\u001b[0;34m(\u001b[0m\u001b[0mcoordinates\u001b[0m\u001b[0;34m[\u001b[0m\u001b[0;36m1\u001b[0m\u001b[0;34m]\u001b[0m\u001b[0;34m)\u001b[0m\u001b[0;34m\u001b[0m\u001b[0;34m\u001b[0m\u001b[0m\n",
            "\u001b[0;31mTypeError\u001b[0m: 'tuple' object does not support item assignment"
          ]
        }
      ]
    },
    {
      "cell_type": "code",
      "source": [
        "coordinates[(94, 5), (3, 5)]\n",
        "print(coordinates)"
      ],
      "metadata": {
        "colab": {
          "base_uri": "https://localhost:8080/",
          "height": 159
        },
        "id": "bVfg5Gq3RQos",
        "outputId": "e8420627-aae0-4232-f95e-805b40d06e0e"
      },
      "execution_count": 36,
      "outputs": [
        {
          "output_type": "error",
          "ename": "TypeError",
          "evalue": "tuple indices must be integers or slices, not tuple",
          "traceback": [
            "\u001b[0;31m---------------------------------------------------------------------------\u001b[0m",
            "\u001b[0;31mTypeError\u001b[0m                                 Traceback (most recent call last)",
            "\u001b[0;32m<ipython-input-36-77148121c222>\u001b[0m in \u001b[0;36m<cell line: 1>\u001b[0;34m()\u001b[0m\n\u001b[0;32m----> 1\u001b[0;31m \u001b[0mcoordinates\u001b[0m\u001b[0;34m[\u001b[0m\u001b[0;34m(\u001b[0m\u001b[0;36m94\u001b[0m\u001b[0;34m,\u001b[0m \u001b[0;36m5\u001b[0m\u001b[0;34m)\u001b[0m\u001b[0;34m,\u001b[0m \u001b[0;34m(\u001b[0m\u001b[0;36m3\u001b[0m\u001b[0;34m,\u001b[0m \u001b[0;36m5\u001b[0m\u001b[0;34m)\u001b[0m\u001b[0;34m]\u001b[0m\u001b[0;34m\u001b[0m\u001b[0;34m\u001b[0m\u001b[0m\n\u001b[0m\u001b[1;32m      2\u001b[0m \u001b[0mprint\u001b[0m\u001b[0;34m(\u001b[0m\u001b[0mcoordinates\u001b[0m\u001b[0;34m)\u001b[0m\u001b[0;34m\u001b[0m\u001b[0;34m\u001b[0m\u001b[0m\n",
            "\u001b[0;31mTypeError\u001b[0m: tuple indices must be integers or slices, not tuple"
          ]
        }
      ]
    },
    {
      "cell_type": "markdown",
      "source": [
        "Functions"
      ],
      "metadata": {
        "id": "iLuHdt18R-Mf"
      }
    },
    {
      "cell_type": "code",
      "source": [
        "def say_hi(name):\n",
        "    print(\"hello \" + name)\n",
        "\n",
        "print(\"top\")\n",
        "say_hi(\"mike\")\n",
        "print(\"bottom\")"
      ],
      "metadata": {
        "colab": {
          "base_uri": "https://localhost:8080/"
        },
        "id": "JzYimdV1R1IH",
        "outputId": "c441ef7e-45ed-41ce-a4c8-ced005857621"
      },
      "execution_count": 40,
      "outputs": [
        {
          "output_type": "stream",
          "name": "stdout",
          "text": [
            "top\n",
            "hello mike\n",
            "bottom\n"
          ]
        }
      ]
    },
    {
      "cell_type": "code",
      "source": [],
      "metadata": {
        "id": "7zfQLdM-TOt8"
      },
      "execution_count": null,
      "outputs": []
    }
  ]
}